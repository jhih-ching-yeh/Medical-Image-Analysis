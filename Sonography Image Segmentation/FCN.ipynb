{
 "cells": [
  {
   "cell_type": "code",
   "execution_count": 74,
   "metadata": {
    "colab": {
     "base_uri": "https://localhost:8080/"
    },
    "executionInfo": {
     "elapsed": 272,
     "status": "ok",
     "timestamp": 1622990914046,
     "user": {
      "displayName": "Yeh Jhih Ching",
      "photoUrl": "https://lh3.googleusercontent.com/a-/AOh14GhUGHWbaMubQV3mE3Jc9KfE7LyvnULwmWBfnP1a=s64",
      "userId": "03998520900262124428"
     },
     "user_tz": -480
    },
    "id": "2T644uuTZNB5",
    "outputId": "95ea0e18-d037-47e2-b066-883bbbc20f22"
   },
   "outputs": [
    {
     "name": "stdout",
     "output_type": "stream",
     "text": [
      "Drive already mounted at /content/drive; to attempt to forcibly remount, call drive.mount(\"/content/drive\", force_remount=True).\n"
     ]
    }
   ],
   "source": [
    "from google.colab import drive\n",
    "drive.mount('/content/drive')"
   ]
  },
  {
   "cell_type": "code",
   "execution_count": 51,
   "metadata": {
    "executionInfo": {
     "elapsed": 1,
     "status": "ok",
     "timestamp": 1622989114070,
     "user": {
      "displayName": "Yeh Jhih Ching",
      "photoUrl": "https://lh3.googleusercontent.com/a-/AOh14GhUGHWbaMubQV3mE3Jc9KfE7LyvnULwmWBfnP1a=s64",
      "userId": "03998520900262124428"
     },
     "user_tz": -480
    },
    "id": "1VFBIsrKcs1q"
   },
   "outputs": [],
   "source": [
    "import os\n",
    "import sys\n",
    "import random\n",
    "import pandas as pd\n",
    "import numpy as np\n",
    "import cv2\n",
    "import matplotlib.pyplot as plt\n",
    "import tensorflow as tf\n",
    "from tensorflow import keras\n",
    "import cv2 as cv\n",
    "from google.colab.patches import cv2_imshow"
   ]
  },
  {
   "cell_type": "code",
   "execution_count": 52,
   "metadata": {
    "executionInfo": {
     "elapsed": 3,
     "status": "ok",
     "timestamp": 1622989115095,
     "user": {
      "displayName": "Yeh Jhih Ching",
      "photoUrl": "https://lh3.googleusercontent.com/a-/AOh14GhUGHWbaMubQV3mE3Jc9KfE7LyvnULwmWBfnP1a=s64",
      "userId": "03998520900262124428"
     },
     "user_tz": -480
    },
    "id": "QOF8oD9NcvTD"
   },
   "outputs": [],
   "source": [
    "# Seeding \n",
    "seed = 2020\n",
    "random.seed = seed\n",
    "np.random.seed = seed\n",
    "tf.seed = seed"
   ]
  },
  {
   "cell_type": "code",
   "execution_count": 53,
   "metadata": {
    "executionInfo": {
     "elapsed": 2,
     "status": "ok",
     "timestamp": 1622989116394,
     "user": {
      "displayName": "Yeh Jhih Ching",
      "photoUrl": "https://lh3.googleusercontent.com/a-/AOh14GhUGHWbaMubQV3mE3Jc9KfE7LyvnULwmWBfnP1a=s64",
      "userId": "03998520900262124428"
     },
     "user_tz": -480
    },
    "id": "cO2F7yI6cw4K"
   },
   "outputs": [],
   "source": [
    "# csv\n",
    "train_csv = pd.read_csv(r\"/content/drive/MyDrive/深度學習於醫學影像/HW3/train_path.csv\")\n",
    "test_csv = pd.read_csv(r\"/content/drive/MyDrive/深度學習於醫學影像/HW3/test_path.csv\")"
   ]
  },
  {
   "cell_type": "code",
   "execution_count": 77,
   "metadata": {
    "executionInfo": {
     "elapsed": 303,
     "status": "ok",
     "timestamp": 1622991526984,
     "user": {
      "displayName": "Yeh Jhih Ching",
      "photoUrl": "https://lh3.googleusercontent.com/a-/AOh14GhUGHWbaMubQV3mE3Jc9KfE7LyvnULwmWBfnP1a=s64",
      "userId": "03998520900262124428"
     },
     "user_tz": -480
    },
    "id": "sz-hWQ7Vc1Jo"
   },
   "outputs": [],
   "source": [
    "# path\n",
    "train_path = \"/content/drive/MyDrive/深度學習於醫學影像/HW3/train/\"\n",
    "test_path = \"/content/drive/MyDrive/深度學習於醫學影像/HW3/test/\"\n",
    "FCN8_path = \"/content/drive/MyDrive/深度學習於醫學影像/HW3/test/0613144/FCN-8/post/\"\n",
    "FCN16_path = \"/content/drive/MyDrive/深度學習於醫學影像/HW3/test/0613144/FCN-16/post/\"\n",
    "FCN32_path = \"/content/drive/MyDrive/深度學習於醫學影像/HW3/test/0613144/FCN-32/post/\""
   ]
  },
  {
   "cell_type": "code",
   "execution_count": 55,
   "metadata": {
    "executionInfo": {
     "elapsed": 5,
     "status": "ok",
     "timestamp": 1622989117846,
     "user": {
      "displayName": "Yeh Jhih Ching",
      "photoUrl": "https://lh3.googleusercontent.com/a-/AOh14GhUGHWbaMubQV3mE3Jc9KfE7LyvnULwmWBfnP1a=s64",
      "userId": "03998520900262124428"
     },
     "user_tz": -480
    },
    "id": "_k4KOJrIiG9h"
   },
   "outputs": [],
   "source": [
    "# Training Ids Filename\n",
    "train_ids = np.array(train_csv[\"pre\"])\n",
    "# Testing Ids Filename\n",
    "test_ids = np.array(test_csv[\"pre\"])"
   ]
  },
  {
   "cell_type": "code",
   "execution_count": 56,
   "metadata": {
    "executionInfo": {
     "elapsed": 1,
     "status": "ok",
     "timestamp": 1622989118541,
     "user": {
      "displayName": "Yeh Jhih Ching",
      "photoUrl": "https://lh3.googleusercontent.com/a-/AOh14GhUGHWbaMubQV3mE3Jc9KfE7LyvnULwmWBfnP1a=s64",
      "userId": "03998520900262124428"
     },
     "user_tz": -480
    },
    "id": "7CWK7BcNc7AG"
   },
   "outputs": [],
   "source": [
    "# Model Set\n",
    "image_size = 256\n",
    "epochs = 10   \n",
    "batch_size = 8\n",
    "val_data_size = 10"
   ]
  },
  {
   "cell_type": "code",
   "execution_count": 57,
   "metadata": {
    "executionInfo": {
     "elapsed": 3,
     "status": "ok",
     "timestamp": 1622989119717,
     "user": {
      "displayName": "Yeh Jhih Ching",
      "photoUrl": "https://lh3.googleusercontent.com/a-/AOh14GhUGHWbaMubQV3mE3Jc9KfE7LyvnULwmWBfnP1a=s64",
      "userId": "03998520900262124428"
     },
     "user_tz": -480
    },
    "id": "T4fYB5tbiauD"
   },
   "outputs": [],
   "source": [
    "# Split train and valid data\n",
    "valid_ids = train_ids[:val_data_size]\n",
    "train_ids = train_ids[val_data_size:]"
   ]
  },
  {
   "cell_type": "code",
   "execution_count": 58,
   "metadata": {
    "executionInfo": {
     "elapsed": 437,
     "status": "ok",
     "timestamp": 1622989120543,
     "user": {
      "displayName": "Yeh Jhih Ching",
      "photoUrl": "https://lh3.googleusercontent.com/a-/AOh14GhUGHWbaMubQV3mE3Jc9KfE7LyvnULwmWBfnP1a=s64",
      "userId": "03998520900262124428"
     },
     "user_tz": -480
    },
    "id": "ya4xOwfDc9XW"
   },
   "outputs": [],
   "source": [
    "# Train Data Preprocessing\n",
    "class DataGen(keras.utils.Sequence):\n",
    "    def __init__(self, ids, path, batch_size=8, image_size=128):\n",
    "        self.ids = ids\n",
    "        self.path = path\n",
    "        self.batch_size = batch_size\n",
    "        self.image_size = image_size\n",
    "        self.on_epoch_end()\n",
    "        \n",
    "    def __load__(self, id_name):\n",
    "        ## 檔案路徑 Path\n",
    "        image_path = os.path.join(self.path,\"pre/\", id_name)\n",
    "        mask_path = os.path.join(self.path, \"post/\", id_name)+\"_ROI.bmp\"\n",
    "        \n",
    "        ## 讀取檔案 - Reading Image\n",
    "        image = cv2.imread(image_path, 1)\n",
    "        image = cv2.resize(image, (self.image_size, self.image_size))\n",
    "        \n",
    "        mask = np.zeros((self.image_size, self.image_size, 1))\n",
    "        \n",
    "        ## 讀取檔案 - Reading Masks\n",
    "        _mask_image = cv2.imread(mask_path, -1)\n",
    "        _mask_image = cv2.resize(_mask_image, (self.image_size, self.image_size)) #128x128\n",
    "        _mask_image = np.expand_dims(_mask_image, axis=-1)\n",
    "        mask = np.maximum(mask, _mask_image)\n",
    "            \n",
    "        ## 歸一化 Normalizaing \n",
    "        image = image/255.0\n",
    "        mask = mask/255.0\n",
    "        \n",
    "        return image, mask\n",
    "    \n",
    "    def __getitem__(self, index):\n",
    "        if(index+1)*self.batch_size > len(self.ids):\n",
    "            self.batch_size = len(self.ids) - index*self.batch_size\n",
    "        \n",
    "        files_batch = self.ids[index*self.batch_size : (index+1)*self.batch_size]\n",
    "        \n",
    "        image = []\n",
    "        mask  = []\n",
    "        \n",
    "        for id_name in files_batch:\n",
    "            _img, _mask = self.__load__(id_name)\n",
    "            image.append(_img)\n",
    "            mask.append(_mask)\n",
    "            \n",
    "        image = np.array(image)\n",
    "        mask  = np.array(mask)\n",
    "        \n",
    "        return image, mask\n",
    "    \n",
    "    def on_epoch_end(self):\n",
    "        pass\n",
    "    \n",
    "    def __len__(self):\n",
    "        return int(np.ceil(len(self.ids)/float(self.batch_size)))"
   ]
  },
  {
   "cell_type": "code",
   "execution_count": 59,
   "metadata": {
    "executionInfo": {
     "elapsed": 5,
     "status": "ok",
     "timestamp": 1622989121454,
     "user": {
      "displayName": "Yeh Jhih Ching",
      "photoUrl": "https://lh3.googleusercontent.com/a-/AOh14GhUGHWbaMubQV3mE3Jc9KfE7LyvnULwmWBfnP1a=s64",
      "userId": "03998520900262124428"
     },
     "user_tz": -480
    },
    "id": "HnCzZ2yVkZby"
   },
   "outputs": [],
   "source": [
    "# Test Data Preprocessing\n",
    "class Test_DataGen(keras.utils.Sequence):\n",
    "    def __init__(self, ids, path, batch_size=8, image_size=128):\n",
    "        self.ids = ids\n",
    "        self.path = path\n",
    "        self.batch_size = batch_size\n",
    "        self.image_size = image_size\n",
    "        self.on_epoch_end()\n",
    "        \n",
    "    def __load__(self, id_name):\n",
    "        ## 檔案路徑 Path\n",
    "        image_path = os.path.join(self.path,\"pre/\", id_name)\n",
    "        \n",
    "        ## 讀取檔案 - Reading Image\n",
    "        image = cv2.imread(image_path, 1)\n",
    "        image = cv2.resize(image, (self.image_size, self.image_size))\n",
    "        \n",
    "        ## 歸一化 Normalizaing \n",
    "        image = image/255.0\n",
    "        \n",
    "        return image\n",
    "    \n",
    "    def __getitem__(self, index):\n",
    "        if(index+1)*self.batch_size > len(self.ids):\n",
    "            self.batch_size = len(self.ids) - index*self.batch_size\n",
    "        \n",
    "        files_batch = self.ids[index*self.batch_size : (index+1)*self.batch_size]\n",
    "        \n",
    "        image = []\n",
    "     \n",
    "        for id_name in files_batch:\n",
    "            _img = self.__load__(id_name)\n",
    "            image.append(_img) \n",
    "            \n",
    "        image = np.array(image)\n",
    "        return image\n",
    "    \n",
    "    def on_epoch_end(self):\n",
    "        pass\n",
    "    \n",
    "    def __len__(self):\n",
    "        return int(np.ceil(len(self.ids)/float(self.batch_size)))"
   ]
  },
  {
   "cell_type": "code",
   "execution_count": 62,
   "metadata": {
    "colab": {
     "base_uri": "https://localhost:8080/",
     "height": 209
    },
    "executionInfo": {
     "elapsed": 960,
     "status": "ok",
     "timestamp": 1622989132738,
     "user": {
      "displayName": "Yeh Jhih Ching",
      "photoUrl": "https://lh3.googleusercontent.com/a-/AOh14GhUGHWbaMubQV3mE3Jc9KfE7LyvnULwmWBfnP1a=s64",
      "userId": "03998520900262124428"
     },
     "user_tz": -480
    },
    "id": "x29zahGEhBF5",
    "outputId": "38af9c26-4738-49ca-9325-b64c6d152f1b"
   },
   "outputs": [
    {
     "data": {
      "text/plain": [
       "<matplotlib.image.AxesImage at 0x7f3bfba18ed0>"
      ]
     },
     "execution_count": 62,
     "metadata": {
      "tags": []
     },
     "output_type": "execute_result"
    },
    {
     "data": {
      "image/png": "[encoded data removed]",
      "text/plain": [
       "<Figure size 432x288 with 2 Axes>"
      ]
     },
     "metadata": {
      "needs_background": "light",
      "tags": []
     },
     "output_type": "display_data"
    }
   ],
   "source": [
    "# Take a random photo and Test it\n",
    "gen = DataGen(train_ids, train_path, batch_size=batch_size, image_size=image_size)\n",
    "x, y = gen.__getitem__(0)\n",
    "\n",
    "r = random.randint(0, len(x)-1)\n",
    "\n",
    "fig = plt.figure()\n",
    "fig.subplots_adjust(hspace=0.4, wspace=0.4)\n",
    "ax = fig.add_subplot(1, 2, 1)\n",
    "ax.imshow(x[r])\n",
    "ax = fig.add_subplot(1, 2, 2)\n",
    "ax.imshow(np.reshape(y[r], (image_size, image_size)), cmap=\"gray\")"
   ]
  },
  {
   "cell_type": "markdown",
   "metadata": {
    "id": "nvvHV3NGzJjo"
   },
   "source": [
    "FCN-8"
   ]
  },
  {
   "cell_type": "code",
   "execution_count": 65,
   "metadata": {
    "colab": {
     "base_uri": "https://localhost:8080/"
    },
    "executionInfo": {
     "elapsed": 743,
     "status": "ok",
     "timestamp": 1622989161505,
     "user": {
      "displayName": "Yeh Jhih Ching",
      "photoUrl": "https://lh3.googleusercontent.com/a-/AOh14GhUGHWbaMubQV3mE3Jc9KfE7LyvnULwmWBfnP1a=s64",
      "userId": "03998520900262124428"
     },
     "user_tz": -480
    },
    "id": "0-FKAL4mUYaM",
    "outputId": "0dcf0ccd-e55e-48c2-a6a7-f691fc1a9e87"
   },
   "outputs": [
    {
     "name": "stdout",
     "output_type": "stream",
     "text": [
      "Model: \"FCN-8s\"\n",
      "__________________________________________________________________________________________________\n",
      "Layer (type)                    Output Shape         Param #     Connected to                     \n",
      "==================================================================================================\n",
      "input (InputLayer)              [(None, 256, 256, 3) 0                                            \n",
      "__________________________________________________________________________________________________\n",
      "conv_1 (Conv2D)                 (None, 256, 256, 32) 896         input[0][0]                      \n",
      "__________________________________________________________________________________________________\n",
      "max_pool_1 (MaxPooling2D)       (None, 128, 128, 32) 0           conv_1[0][0]                     \n",
      "__________________________________________________________________________________________________\n",
      "conv_2 (Conv2D)                 (None, 128, 128, 64) 18496       max_pool_1[0][0]                 \n",
      "__________________________________________________________________________________________________\n",
      "max_pool_2 (MaxPooling2D)       (None, 64, 64, 64)   0           conv_2[0][0]                     \n",
      "__________________________________________________________________________________________________\n",
      "conv_3 (Conv2D)                 (None, 64, 64, 128)  73856       max_pool_2[0][0]                 \n",
      "__________________________________________________________________________________________________\n",
      "max_pool_3 (MaxPooling2D)       (None, 32, 32, 128)  0           conv_3[0][0]                     \n",
      "__________________________________________________________________________________________________\n",
      "conv_4 (Conv2D)                 (None, 32, 32, 256)  295168      max_pool_3[0][0]                 \n",
      "__________________________________________________________________________________________________\n",
      "max_pool_4 (MaxPooling2D)       (None, 16, 16, 256)  0           conv_4[0][0]                     \n",
      "__________________________________________________________________________________________________\n",
      "conv_5 (Conv2D)                 (None, 16, 16, 512)  1180160     max_pool_4[0][0]                 \n",
      "__________________________________________________________________________________________________\n",
      "max_pool_5 (MaxPooling2D)       (None, 8, 8, 512)    0           conv_5[0][0]                     \n",
      "__________________________________________________________________________________________________\n",
      "upsamping_6 (Conv2DTranspose)   (None, 16, 16, 256)  1179904     max_pool_5[0][0]                 \n",
      "__________________________________________________________________________________________________\n",
      "add_4 (Add)                     (None, 16, 16, 256)  0           max_pool_4[0][0]                 \n",
      "                                                                 upsamping_6[0][0]                \n",
      "__________________________________________________________________________________________________\n",
      "Conv2DTranspose_16s (Conv2DTran (None, 32, 32, 128)  295040      add_4[0][0]                      \n",
      "__________________________________________________________________________________________________\n",
      "add_5 (Add)                     (None, 32, 32, 128)  0           max_pool_3[0][0]                 \n",
      "                                                                 Conv2DTranspose_16s[0][0]        \n",
      "__________________________________________________________________________________________________\n",
      "upsamping_7 (UpSampling2D)      (None, 256, 256, 128 0           add_5[0][0]                      \n",
      "__________________________________________________________________________________________________\n",
      "conv_7 (Conv2D)                 (None, 256, 256, 1)  1153        upsamping_7[0][0]                \n",
      "==================================================================================================\n",
      "Total params: 3,044,673\n",
      "Trainable params: 3,044,673\n",
      "Non-trainable params: 0\n",
      "__________________________________________________________________________________________________\n"
     ]
    }
   ],
   "source": [
    "# FCN-8\n",
    "project_name = \"FCN-8\"\n",
    "\n",
    "channels = 3\n",
    "std_shape = (256, 256, channels)\n",
    "                                 \n",
    "img_input = keras.layers.Input(shape = std_shape, name = \"input\")\n",
    "\n",
    "conv_1 = keras.layers.Conv2D(32, kernel_size = (3, 3), activation = \"relu\",\n",
    "                             padding = \"same\", name = \"conv_1\")(img_input)\n",
    "max_pool_1 = keras.layers.MaxPool2D(pool_size = (2, 2), strides = (2, 2),\n",
    "                                    name = \"max_pool_1\")(conv_1)\n",
    "\n",
    "conv_2 = keras.layers.Conv2D(64, kernel_size = (3, 3), activation = \"relu\",\n",
    "                             padding = \"same\", name = \"conv_2\")(max_pool_1)\n",
    "max_pool_2 = keras.layers.MaxPool2D(pool_size = (2, 2), strides = (2, 2),\n",
    "                                    name = \"max_pool_2\")(conv_2)\n",
    "\n",
    "conv_3 = keras.layers.Conv2D(128, kernel_size = (3, 3), activation = \"relu\",\n",
    "                             padding = \"same\", name = \"conv_3\")(max_pool_2)\n",
    "max_pool_3 = keras.layers.MaxPool2D(pool_size = (2, 2), strides = (2, 2),\n",
    "                                    name = \"max_pool_3\")(conv_3)\n",
    "\n",
    "conv_4 = keras.layers.Conv2D(256, kernel_size = (3, 3), activation = \"relu\",\n",
    "                             padding = \"same\", name = \"conv_4\")(max_pool_3)\n",
    "max_pool_4 = keras.layers.MaxPool2D(pool_size = (2, 2), strides = (2, 2),\n",
    "                                    name = \"max_pool_4\")(conv_4)\n",
    "\n",
    "conv_5 = keras.layers.Conv2D(512, kernel_size = (3, 3), activation = \"relu\",\n",
    "                             padding = \"same\", name = \"conv_5\")(max_pool_4)\n",
    "max_pool_5 = keras.layers.MaxPool2D(pool_size = (2, 2), strides = (2, 2),\n",
    "                                    name = \"max_pool_5\")(conv_5)\n",
    "\n",
    "# max_pool_5 转置卷积上采样 2 倍和 max_pool_4 一样大\n",
    "up6 = keras.layers.Conv2DTranspose(256, kernel_size = (3, 3),\n",
    "                                   strides = (2, 2),\n",
    "                                   padding = \"same\",\n",
    "                                   kernel_initializer = \"he_normal\",\n",
    "                                   name = \"upsamping_6\")(max_pool_5)\n",
    "                \n",
    "_16s = keras.layers.add([max_pool_4, up6])\n",
    "\n",
    "# _16s 转置卷积上采样 2 倍和 max_pool_3 一样大\n",
    "up_16s = keras.layers.Conv2DTranspose(128, kernel_size = (3, 3),\n",
    "                                      strides = (2, 2),\n",
    "                                      padding = \"same\",\n",
    "                                      kernel_initializer = \"he_normal\",\n",
    "                                      name = \"Conv2DTranspose_16s\")(_16s)\n",
    "                                  \n",
    "_8s = keras.layers.add([max_pool_3, up_16s])\n",
    "\n",
    "# _8s 上采样 8 倍后与输入尺寸相同\n",
    "up7 = keras.layers.UpSampling2D(size = (8, 8), interpolation = \"bilinear\",\n",
    "                                name = \"upsamping_7\")(_8s)\n",
    "\n",
    "# 这里 kernel 也是 3 * 3, 也可以同 FCN-32s 那样修改的\n",
    "conv_7 = keras.layers.Conv2D(1, kernel_size = (3, 3), activation = \"sigmoid\",\n",
    "                             padding = \"same\", name = \"conv_7\")(up7)\n",
    "\n",
    "model = keras.Model(img_input, conv_7, name = project_name)\n",
    "\n",
    "model.compile(optimizer = \"adam\",\n",
    "              loss = \"binary_crossentropy\",\n",
    "              metrics = [\"accuracy\"])\n",
    "\n",
    "model.summary()"
   ]
  },
  {
   "cell_type": "code",
   "execution_count": 69,
   "metadata": {
    "executionInfo": {
     "elapsed": 309,
     "status": "ok",
     "timestamp": 1622989290607,
     "user": {
      "displayName": "Yeh Jhih Ching",
      "photoUrl": "https://lh3.googleusercontent.com/a-/AOh14GhUGHWbaMubQV3mE3Jc9KfE7LyvnULwmWBfnP1a=s64",
      "userId": "03998520900262124428"
     },
     "user_tz": -480
    },
    "id": "YfUcb1efegUy"
   },
   "outputs": [],
   "source": [
    "# Model Predict and Save Image\n",
    "def test_predict_save(modeltype,path):\n",
    "  modeltype.fit_generator(train_gen, validation_data=valid_gen, steps_per_epoch=train_steps, validation_steps=valid_steps, epochs=epochs)\n",
    "  result = modeltype.predict(test_gen)\n",
    "  for i in range(100):\n",
    "    img = result[i]*255\n",
    "    img = cv.resize(img, (256, 256))\n",
    "    img = cv.merge([img, img, img])\n",
    "    #cv2_imshow(img)\n",
    "    cv2.imwrite(path+test_ids[i]+\"_ROI.bmp\", img)"
   ]
  },
  {
   "cell_type": "code",
   "execution_count": 68,
   "metadata": {
    "executionInfo": {
     "elapsed": 274,
     "status": "ok",
     "timestamp": 1622989239524,
     "user": {
      "displayName": "Yeh Jhih Ching",
      "photoUrl": "https://lh3.googleusercontent.com/a-/AOh14GhUGHWbaMubQV3mE3Jc9KfE7LyvnULwmWBfnP1a=s64",
      "userId": "03998520900262124428"
     },
     "user_tz": -480
    },
    "id": "ah11hEsEUbyu"
   },
   "outputs": [],
   "source": [
    "# Set Train, Validation, Test Data\n",
    "train_gen = DataGen(train_ids, train_path, image_size=image_size, batch_size=batch_size)\n",
    "valid_gen = DataGen(valid_ids, train_path, image_size=image_size, batch_size=batch_size)\n",
    "test_gen = Test_DataGen(test_ids, test_path, image_size=image_size, batch_size=batch_size)\n",
    "\n",
    "train_steps = len(train_ids)//batch_size\n",
    "valid_steps = len(valid_ids)//batch_size\n",
    "test_steps = len(test_ids)//batch_size"
   ]
  },
  {
   "cell_type": "code",
   "execution_count": 76,
   "metadata": {
    "colab": {
     "base_uri": "https://localhost:8080/"
    },
    "executionInfo": {
     "elapsed": 409978,
     "status": "ok",
     "timestamp": 1622991330383,
     "user": {
      "displayName": "Yeh Jhih Ching",
      "photoUrl": "https://lh3.googleusercontent.com/a-/AOh14GhUGHWbaMubQV3mE3Jc9KfE7LyvnULwmWBfnP1a=s64",
      "userId": "03998520900262124428"
     },
     "user_tz": -480
    },
    "id": "hfw5gCEyqS5Y",
    "outputId": "05cc88ee-465e-47bf-dfba-676ab296d41f"
   },
   "outputs": [
    {
     "name": "stderr",
     "output_type": "stream",
     "text": [
      "/usr/local/lib/python3.7/dist-packages/tensorflow/python/keras/engine/training.py:1940: UserWarning: `Model.fit_generator` is deprecated and will be removed in a future version. Please use `Model.fit`, which supports generators.\n",
      "  warnings.warn('`Model.fit_generator` is deprecated and '\n"
     ]
    },
    {
     "name": "stdout",
     "output_type": "stream",
     "text": [
      "Epoch 1/10\n",
      "36/36 [==============================] - 39s 1s/step - loss: 0.0213 - accuracy: 0.9892 - val_loss: 0.0218 - val_accuracy: 0.9894\n",
      "Epoch 2/10\n",
      "36/36 [==============================] - 39s 1s/step - loss: 0.0210 - accuracy: 0.9894 - val_loss: 0.0328 - val_accuracy: 0.9841\n",
      "Epoch 3/10\n",
      "36/36 [==============================] - 39s 1s/step - loss: 0.0213 - accuracy: 0.9892 - val_loss: 0.0285 - val_accuracy: 0.9875\n",
      "Epoch 4/10\n",
      "36/36 [==============================] - 39s 1s/step - loss: 0.0233 - accuracy: 0.9884 - val_loss: 0.0349 - val_accuracy: 0.9843\n",
      "Epoch 5/10\n",
      "36/36 [==============================] - 39s 1s/step - loss: 0.0229 - accuracy: 0.9889 - val_loss: 0.0273 - val_accuracy: 0.9862\n",
      "Epoch 6/10\n",
      "36/36 [==============================] - 39s 1s/step - loss: 0.0203 - accuracy: 0.9895 - val_loss: 0.0260 - val_accuracy: 0.9879\n",
      "Epoch 7/10\n",
      "36/36 [==============================] - 39s 1s/step - loss: 0.0193 - accuracy: 0.9898 - val_loss: 0.0194 - val_accuracy: 0.9901\n",
      "Epoch 8/10\n",
      "36/36 [==============================] - 39s 1s/step - loss: 0.0196 - accuracy: 0.9897 - val_loss: 0.0274 - val_accuracy: 0.9878\n",
      "Epoch 9/10\n",
      "36/36 [==============================] - 39s 1s/step - loss: 0.0181 - accuracy: 0.9905 - val_loss: 0.0233 - val_accuracy: 0.9887\n",
      "Epoch 10/10\n",
      "36/36 [==============================] - 39s 1s/step - loss: 0.0194 - accuracy: 0.9898 - val_loss: 0.0258 - val_accuracy: 0.9887\n"
     ]
    }
   ],
   "source": [
    "test_predict_save(model,FCN8_path)"
   ]
  },
  {
   "cell_type": "code",
   "execution_count": null,
   "metadata": {
    "id": "kjDTAjonn7eB"
   },
   "outputs": [],
   "source": []
  },
  {
   "cell_type": "markdown",
   "metadata": {
    "id": "K19e2XkazPa6"
   },
   "source": [
    "FCN-16"
   ]
  },
  {
   "cell_type": "code",
   "execution_count": 78,
   "metadata": {
    "colab": {
     "base_uri": "https://localhost:8080/"
    },
    "executionInfo": {
     "elapsed": 321,
     "status": "ok",
     "timestamp": 1622991535283,
     "user": {
      "displayName": "Yeh Jhih Ching",
      "photoUrl": "https://lh3.googleusercontent.com/a-/AOh14GhUGHWbaMubQV3mE3Jc9KfE7LyvnULwmWBfnP1a=s64",
      "userId": "03998520900262124428"
     },
     "user_tz": -480
    },
    "id": "B0j0SYokzSW1",
    "outputId": "125fc23f-9c34-4f67-e3d1-5a33eb7133b1"
   },
   "outputs": [
    {
     "name": "stdout",
     "output_type": "stream",
     "text": [
      "Model: \"FCN-16\"\n",
      "__________________________________________________________________________________________________\n",
      "Layer (type)                    Output Shape         Param #     Connected to                     \n",
      "==================================================================================================\n",
      "input (InputLayer)              [(None, 256, 256, 3) 0                                            \n",
      "__________________________________________________________________________________________________\n",
      "conv_1 (Conv2D)                 (None, 256, 256, 32) 896         input[0][0]                      \n",
      "__________________________________________________________________________________________________\n",
      "max_pool_1 (MaxPooling2D)       (None, 128, 128, 32) 0           conv_1[0][0]                     \n",
      "__________________________________________________________________________________________________\n",
      "conv_2 (Conv2D)                 (None, 128, 128, 64) 18496       max_pool_1[0][0]                 \n",
      "__________________________________________________________________________________________________\n",
      "max_pool_2 (MaxPooling2D)       (None, 64, 64, 64)   0           conv_2[0][0]                     \n",
      "__________________________________________________________________________________________________\n",
      "conv_3 (Conv2D)                 (None, 64, 64, 128)  73856       max_pool_2[0][0]                 \n",
      "__________________________________________________________________________________________________\n",
      "max_pool_3 (MaxPooling2D)       (None, 32, 32, 128)  0           conv_3[0][0]                     \n",
      "__________________________________________________________________________________________________\n",
      "conv_4 (Conv2D)                 (None, 32, 32, 256)  295168      max_pool_3[0][0]                 \n",
      "__________________________________________________________________________________________________\n",
      "max_pool_4 (MaxPooling2D)       (None, 16, 16, 256)  0           conv_4[0][0]                     \n",
      "__________________________________________________________________________________________________\n",
      "conv_5 (Conv2D)                 (None, 16, 16, 512)  1180160     max_pool_4[0][0]                 \n",
      "__________________________________________________________________________________________________\n",
      "max_pool_5 (MaxPooling2D)       (None, 8, 8, 512)    0           conv_5[0][0]                     \n",
      "__________________________________________________________________________________________________\n",
      "upsamping_6 (Conv2DTranspose)   (None, 16, 16, 256)  1179904     max_pool_5[0][0]                 \n",
      "__________________________________________________________________________________________________\n",
      "add_6 (Add)                     (None, 16, 16, 256)  0           max_pool_4[0][0]                 \n",
      "                                                                 upsamping_6[0][0]                \n",
      "__________________________________________________________________________________________________\n",
      "upsamping_7 (UpSampling2D)      (None, 256, 256, 256 0           add_6[0][0]                      \n",
      "__________________________________________________________________________________________________\n",
      "conv_7 (Conv2D)                 (None, 256, 256, 1)  2305        upsamping_7[0][0]                \n",
      "==================================================================================================\n",
      "Total params: 2,750,785\n",
      "Trainable params: 2,750,785\n",
      "Non-trainable params: 0\n",
      "__________________________________________________________________________________________________\n"
     ]
    }
   ],
   "source": [
    "# FCN-16\n",
    "project_name = \"FCN-16\"\n",
    "\n",
    "channels = 3\n",
    "std_shape = (256, 256, channels) \n",
    "\n",
    "img_input = keras.layers.Input(shape = std_shape, name = \"input\")\n",
    "\n",
    "conv_1 = keras.layers.Conv2D(32, kernel_size = (3, 3), activation = \"relu\",\n",
    "                             padding = \"same\", name = \"conv_1\")(img_input)\n",
    "max_pool_1 = keras.layers.MaxPool2D(pool_size = (2, 2), strides = (2, 2),\n",
    "                                    name = \"max_pool_1\")(conv_1)\n",
    "\n",
    "conv_2 = keras.layers.Conv2D(64, kernel_size = (3, 3), activation = \"relu\",\n",
    "                             padding = \"same\", name = \"conv_2\")(max_pool_1)\n",
    "max_pool_2 = keras.layers.MaxPool2D(pool_size = (2, 2), strides = (2, 2),\n",
    "                                    name = \"max_pool_2\")(conv_2)\n",
    "\n",
    "conv_3 = keras.layers.Conv2D(128, kernel_size = (3, 3), activation = \"relu\",\n",
    "                             padding = \"same\", name = \"conv_3\")(max_pool_2)\n",
    "max_pool_3 = keras.layers.MaxPool2D(pool_size = (2, 2), strides = (2, 2),\n",
    "                                    name = \"max_pool_3\")(conv_3)\n",
    "\n",
    "conv_4 = keras.layers.Conv2D(256, kernel_size = (3, 3), activation = \"relu\",\n",
    "                             padding = \"same\", name = \"conv_4\")(max_pool_3)\n",
    "max_pool_4 = keras.layers.MaxPool2D(pool_size = (2, 2), strides = (2, 2),\n",
    "                                    name = \"max_pool_4\")(conv_4)\n",
    "\n",
    "conv_5 = keras.layers.Conv2D(512, kernel_size = (3, 3), activation = \"relu\",\n",
    "                             padding = \"same\", name = \"conv_5\")(max_pool_4)\n",
    "max_pool_5 = keras.layers.MaxPool2D(pool_size = (2, 2), strides = (2, 2),\n",
    "                                    name = \"max_pool_5\")(conv_5)\n",
    "\n",
    "# max_pool_5 转置卷积上采样 2 倍至 max_pool_4 一样大\n",
    "up6 = keras.layers.Conv2DTranspose(256, kernel_size = (3, 3),\n",
    "                                   strides = (2, 2),\n",
    "                                   padding = \"same\",\n",
    "                                   kernel_initializer = \"he_normal\",\n",
    "                                   name = \"upsamping_6\")(max_pool_5)\n",
    "                \n",
    "_16s = keras.layers.add([max_pool_4, up6])\n",
    "\n",
    "# _16s 上采样 16 倍后与输入尺寸相同\n",
    "up7 = keras.layers.UpSampling2D(size = (16, 16), interpolation = \"bilinear\",\n",
    "                                name = \"upsamping_7\")(_16s)\n",
    "\n",
    "# 这里 kernel 也是 3 * 3, 也可以同 FCN-32s 那样修改的\n",
    "conv_7 = keras.layers.Conv2D(1, kernel_size = (3, 3), activation = \"sigmoid\",\n",
    "                             padding = \"same\", name = \"conv_7\")(up7)\n",
    "\n",
    "model = keras.Model(img_input, conv_7, name = project_name)\n",
    "\n",
    "model.compile(optimizer = \"adam\",\n",
    "              loss = \"binary_crossentropy\",\n",
    "              metrics = [\"accuracy\"])\n",
    "\n",
    "model.summary()"
   ]
  },
  {
   "cell_type": "code",
   "execution_count": 79,
   "metadata": {
    "colab": {
     "base_uri": "https://localhost:8080/"
    },
    "executionInfo": {
     "elapsed": 754171,
     "status": "ok",
     "timestamp": 1622992302671,
     "user": {
      "displayName": "Yeh Jhih Ching",
      "photoUrl": "https://lh3.googleusercontent.com/a-/AOh14GhUGHWbaMubQV3mE3Jc9KfE7LyvnULwmWBfnP1a=s64",
      "userId": "03998520900262124428"
     },
     "user_tz": -480
    },
    "id": "-dHCRfPUzSi5",
    "outputId": "1c939001-da58-4360-8361-53f3bc57b38f"
   },
   "outputs": [
    {
     "name": "stderr",
     "output_type": "stream",
     "text": [
      "/usr/local/lib/python3.7/dist-packages/tensorflow/python/keras/engine/training.py:1940: UserWarning: `Model.fit_generator` is deprecated and will be removed in a future version. Please use `Model.fit`, which supports generators.\n",
      "  warnings.warn('`Model.fit_generator` is deprecated and '\n"
     ]
    },
    {
     "name": "stdout",
     "output_type": "stream",
     "text": [
      "Epoch 1/10\n",
      "36/36 [==============================] - 66s 2s/step - loss: 0.3579 - accuracy: 0.8573 - val_loss: 0.2932 - val_accuracy: 0.8524\n",
      "Epoch 2/10\n",
      "36/36 [==============================] - 64s 2s/step - loss: 0.2000 - accuracy: 0.9161 - val_loss: 0.1131 - val_accuracy: 0.9635\n",
      "Epoch 3/10\n",
      "36/36 [==============================] - 64s 2s/step - loss: 0.1005 - accuracy: 0.9579 - val_loss: 0.0753 - val_accuracy: 0.9652\n",
      "Epoch 4/10\n",
      "36/36 [==============================] - 64s 2s/step - loss: 0.0622 - accuracy: 0.9727 - val_loss: 0.0741 - val_accuracy: 0.9708\n",
      "Epoch 5/10\n",
      "36/36 [==============================] - 64s 2s/step - loss: 0.0459 - accuracy: 0.9797 - val_loss: 0.0515 - val_accuracy: 0.9782\n",
      "Epoch 6/10\n",
      "36/36 [==============================] - 64s 2s/step - loss: 0.0341 - accuracy: 0.9839 - val_loss: 0.0354 - val_accuracy: 0.9835\n",
      "Epoch 7/10\n",
      "36/36 [==============================] - 64s 2s/step - loss: 0.0362 - accuracy: 0.9836 - val_loss: 0.0566 - val_accuracy: 0.9763\n",
      "Epoch 8/10\n",
      "36/36 [==============================] - 64s 2s/step - loss: 0.0313 - accuracy: 0.9852 - val_loss: 0.0363 - val_accuracy: 0.9832\n",
      "Epoch 9/10\n",
      "36/36 [==============================] - 64s 2s/step - loss: 0.0298 - accuracy: 0.9855 - val_loss: 0.0414 - val_accuracy: 0.9815\n",
      "Epoch 10/10\n",
      "36/36 [==============================] - 64s 2s/step - loss: 0.0249 - accuracy: 0.9879 - val_loss: 0.0269 - val_accuracy: 0.9863\n"
     ]
    }
   ],
   "source": [
    "test_predict_save(model,FCN16_path)"
   ]
  },
  {
   "cell_type": "code",
   "execution_count": null,
   "metadata": {
    "id": "WRVUDgrAzSlj"
   },
   "outputs": [],
   "source": []
  },
  {
   "cell_type": "markdown",
   "metadata": {
    "id": "GGQX93xAz15e"
   },
   "source": [
    "FCN-32"
   ]
  },
  {
   "cell_type": "code",
   "execution_count": 85,
   "metadata": {
    "colab": {
     "base_uri": "https://localhost:8080/"
    },
    "executionInfo": {
     "elapsed": 282,
     "status": "ok",
     "timestamp": 1622994157714,
     "user": {
      "displayName": "Yeh Jhih Ching",
      "photoUrl": "https://lh3.googleusercontent.com/a-/AOh14GhUGHWbaMubQV3mE3Jc9KfE7LyvnULwmWBfnP1a=s64",
      "userId": "03998520900262124428"
     },
     "user_tz": -480
    },
    "id": "MuLNf5ctzSoW",
    "outputId": "725c6936-5341-49b6-a496-2cdbd73937b7"
   },
   "outputs": [
    {
     "name": "stdout",
     "output_type": "stream",
     "text": [
      "Model: \"FCN-32\"\n",
      "_________________________________________________________________\n",
      "Layer (type)                 Output Shape              Param #   \n",
      "=================================================================\n",
      "conv_1 (Conv2D)              (None, 256, 256, 32)      896       \n",
      "_________________________________________________________________\n",
      "max_pool_1 (MaxPooling2D)    (None, 128, 128, 32)      0         \n",
      "_________________________________________________________________\n",
      "conv_2 (Conv2D)              (None, 128, 128, 64)      18496     \n",
      "_________________________________________________________________\n",
      "max_pool_2 (MaxPooling2D)    (None, 64, 64, 64)        0         \n",
      "_________________________________________________________________\n",
      "conv_3 (Conv2D)              (None, 64, 64, 128)       73856     \n",
      "_________________________________________________________________\n",
      "max_pool_3 (MaxPooling2D)    (None, 32, 32, 128)       0         \n",
      "_________________________________________________________________\n",
      "conv_4 (Conv2D)              (None, 32, 32, 256)       295168    \n",
      "_________________________________________________________________\n",
      "max_pool_4 (MaxPooling2D)    (None, 16, 16, 256)       0         \n",
      "_________________________________________________________________\n",
      "conv_5 (Conv2D)              (None, 16, 16, 512)       1180160   \n",
      "_________________________________________________________________\n",
      "max_pool_5 (MaxPooling2D)    (None, 8, 8, 512)         0         \n",
      "_________________________________________________________________\n",
      "upsamping_6 (UpSampling2D)   (None, 256, 256, 512)     0         \n",
      "_________________________________________________________________\n",
      "conv_7 (Conv2D)              (None, 256, 256, 1)       4609      \n",
      "=================================================================\n",
      "Total params: 1,573,185\n",
      "Trainable params: 1,573,185\n",
      "Non-trainable params: 0\n",
      "_________________________________________________________________\n"
     ]
    }
   ],
   "source": [
    "# FCN-32\n",
    "project_name = \"FCN-32\"\n",
    "\n",
    "channels = 3\n",
    "std_shape = (256, 256, channels) \n",
    "\n",
    "model = keras.Sequential(name = project_name)\n",
    "\n",
    "model.add(keras.layers.Conv2D(32, kernel_size = (3, 3), activation = \"relu\",\n",
    "                              padding = \"same\", input_shape = std_shape,\n",
    "                              name = \"conv_1\"))\n",
    "model.add(keras.layers.MaxPool2D(pool_size = (2, 2), strides = (2, 2), name = \"max_pool_1\"))\n",
    "\n",
    "model.add(keras.layers.Conv2D(64, kernel_size = (3, 3), activation = \"relu\",\n",
    "                              padding = \"same\", name = \"conv_2\"))\n",
    "model.add(keras.layers.MaxPool2D(pool_size = (2, 2), strides = (2, 2), name = \"max_pool_2\"))\n",
    "\n",
    "model.add(keras.layers.Conv2D(128, kernel_size = (3, 3), activation = \"relu\",\n",
    "                              padding = \"same\", name = \"conv_3\"))\n",
    "model.add(keras.layers.MaxPool2D(pool_size = (2, 2), strides = (2, 2), name = \"max_pool_3\"))\n",
    "\n",
    "model.add(keras.layers.Conv2D(256, kernel_size = (3, 3), activation = \"relu\",\n",
    "                              padding = \"same\", name = \"conv_4\"))\n",
    "model.add(keras.layers.MaxPool2D(pool_size = (2, 2), strides = (2, 2), name = \"max_pool_4\"))\n",
    "\n",
    "model.add(keras.layers.Conv2D(512, kernel_size = (3, 3), activation = \"relu\",\n",
    "                              padding = \"same\", name = \"conv_5\"))\n",
    "model.add(keras.layers.MaxPool2D(pool_size = (2, 2), strides = (2, 2), name = \"max_pool_5\"))\n",
    "\n",
    "model.add(keras.layers.UpSampling2D(size = (32, 32), interpolation = \"nearest\", name = \"upsamping_6\"))\n",
    "\n",
    "\n",
    "\n",
    "# 这里只有一个卷积核, 可以把 kernel_size 改成 1 * 1, 也可以是其他的, 只是要注意 padding 的尺寸\n",
    "# 也可以放到 upsamping_6 的前面, 试着改一下尺寸和顺序看一下效果\n",
    "# 这里只是说明问题, 尺寸和顺序不一定是最好的\n",
    "model.add(keras.layers.Conv2D(1, kernel_size = (3, 3), activation = \"sigmoid\", padding = \"same\", name = \"conv_7\"))\n",
    "\n",
    "model.compile(optimizer = \"adam\",\n",
    "              loss = \"binary_crossentropy\",\n",
    "              metrics = [\"accuracy\"])\n",
    "\n",
    "model.summary()"
   ]
  },
  {
   "cell_type": "code",
   "execution_count": 86,
   "metadata": {
    "colab": {
     "base_uri": "https://localhost:8080/"
    },
    "executionInfo": {
     "elapsed": 1279372,
     "status": "ok",
     "timestamp": 1622995440087,
     "user": {
      "displayName": "Yeh Jhih Ching",
      "photoUrl": "https://lh3.googleusercontent.com/a-/AOh14GhUGHWbaMubQV3mE3Jc9KfE7LyvnULwmWBfnP1a=s64",
      "userId": "03998520900262124428"
     },
     "user_tz": -480
    },
    "id": "F9VqRr7YzSq-",
    "outputId": "0f66c7a1-731c-4cb0-fb96-dec0159b29f2"
   },
   "outputs": [
    {
     "name": "stderr",
     "output_type": "stream",
     "text": [
      "/usr/local/lib/python3.7/dist-packages/tensorflow/python/keras/engine/training.py:1940: UserWarning: `Model.fit_generator` is deprecated and will be removed in a future version. Please use `Model.fit`, which supports generators.\n",
      "  warnings.warn('`Model.fit_generator` is deprecated and '\n"
     ]
    },
    {
     "name": "stdout",
     "output_type": "stream",
     "text": [
      "Epoch 1/10\n",
      "36/36 [==============================] - 128s 4s/step - loss: 0.3816 - accuracy: 0.8431 - val_loss: 0.3409 - val_accuracy: 0.8524\n",
      "Epoch 2/10\n",
      "36/36 [==============================] - 113s 3s/step - loss: 0.3174 - accuracy: 0.8599 - val_loss: 0.3118 - val_accuracy: 0.8524\n",
      "Epoch 3/10\n",
      "36/36 [==============================] - 113s 3s/step - loss: 0.2717 - accuracy: 0.8690 - val_loss: 0.2689 - val_accuracy: 0.8837\n",
      "Epoch 4/10\n",
      "36/36 [==============================] - 115s 3s/step - loss: 0.2092 - accuracy: 0.9098 - val_loss: 0.2341 - val_accuracy: 0.8928\n",
      "Epoch 5/10\n",
      "36/36 [==============================] - 113s 3s/step - loss: 0.1724 - accuracy: 0.9279 - val_loss: 0.1875 - val_accuracy: 0.9259\n",
      "Epoch 6/10\n",
      "36/36 [==============================] - 114s 3s/step - loss: 0.1492 - accuracy: 0.9346 - val_loss: 0.1819 - val_accuracy: 0.9155\n",
      "Epoch 7/10\n",
      "36/36 [==============================] - 113s 3s/step - loss: 0.1342 - accuracy: 0.9409 - val_loss: 0.1983 - val_accuracy: 0.9167\n",
      "Epoch 8/10\n",
      "36/36 [==============================] - 114s 3s/step - loss: 0.1417 - accuracy: 0.9383 - val_loss: 0.1616 - val_accuracy: 0.9307\n",
      "Epoch 9/10\n",
      "36/36 [==============================] - 113s 3s/step - loss: 0.1249 - accuracy: 0.9423 - val_loss: 0.1590 - val_accuracy: 0.9274\n",
      "Epoch 10/10\n",
      "36/36 [==============================] - 113s 3s/step - loss: 0.1199 - accuracy: 0.9444 - val_loss: 0.1392 - val_accuracy: 0.9312\n"
     ]
    }
   ],
   "source": [
    "test_predict_save(model,FCN32_path)"
   ]
  },
  {
   "cell_type": "code",
   "execution_count": 81,
   "metadata": {
    "executionInfo": {
     "elapsed": 3,
     "status": "ok",
     "timestamp": 1622994096910,
     "user": {
      "displayName": "Yeh Jhih Ching",
      "photoUrl": "https://lh3.googleusercontent.com/a-/AOh14GhUGHWbaMubQV3mE3Jc9KfE7LyvnULwmWBfnP1a=s64",
      "userId": "03998520900262124428"
     },
     "user_tz": -480
    },
    "id": "-dBm3HbWzStq"
   },
   "outputs": [],
   "source": []
  }
 ],
 "metadata": {
  "colab": {
   "collapsed_sections": [],
   "name": "HW3_FINAL.ipynb",
   "provenance": []
  },
  "kernelspec": {
   "display_name": "Python 3",
   "language": "python",
   "name": "python3"
  },
  "language_info": {
   "codemirror_mode": {
    "name": "ipython",
    "version": 3
   },
   "file_extension": ".py",
   "mimetype": "text/x-python",
   "name": "python",
   "nbconvert_exporter": "python",
   "pygments_lexer": "ipython3",
   "version": "3.8.5"
  }
 },
 "nbformat": 4,
 "nbformat_minor": 1
}
