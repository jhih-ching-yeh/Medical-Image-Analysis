{
 "cells": [
  {
   "cell_type": "code",
   "execution_count": 1,
   "metadata": {},
   "outputs": [],
   "source": [
    "import dlib\n",
    "import cv2 as cv"
   ]
  },
  {
   "cell_type": "code",
   "execution_count": 2,
   "metadata": {},
   "outputs": [],
   "source": [
    "detector = dlib.get_frontal_face_detector()"
   ]
  },
  {
   "cell_type": "code",
   "execution_count": 3,
   "metadata": {},
   "outputs": [],
   "source": [
    "color = ('b','g','r')\n",
    "cap = cv.VideoCapture(0)\n",
    "cap.set(cv.CAP_PROP_FRAME_WIDTH, 650)\n",
    "cap.set(cv.CAP_PROP_FRAME_HEIGHT, 500)\n",
    "\n",
    "near_threshold = 0.01"
   ]
  },
  {
   "cell_type": "code",
   "execution_count": 4,
   "metadata": {},
   "outputs": [],
   "source": [
    "while(cap.isOpened()):\n",
    "    ret,frame = cap.read()\n",
    "    face_rects, scores, idx = detector.run(frame, 0)\n",
    "    \n",
    "    for i, d in enumerate(face_rects):\n",
    "        x1 = d.left()\n",
    "        y1 = d.top()\n",
    "        x2 = d.right()\n",
    "        y2 = d.bottom()\n",
    "        \n",
    "        faceLong = y2-y1\n",
    "        upface = frame[y1:y1+int(1/3*faceLong),x1:x2]\n",
    "        downface = frame[y1+int(1/3*faceLong):y2,x1:x2]\n",
    "        \n",
    "        hist1 = cv.calcHist([upface], [0,1,2], None, [256,256,256], [0, 256, 0, 256,0, 256])\n",
    "        hist2 = cv.calcHist([downface], [0,1,2], None, [256,256,256], [0, 256, 0, 256,0, 256])\n",
    "        \n",
    "        # 平移縮放\n",
    "        cv.normalize(hist1, hist1, 0, 1.0, cv.NORM_MINMAX)\n",
    "        cv.normalize(hist2, hist2, 0, 1.0, cv.NORM_MINMAX)\n",
    "        \n",
    "        near = cv.compareHist(hist1,hist2,0)\n",
    "        \n",
    "        if(near < near_threshold):\n",
    "            # 畫框框與寫字\n",
    "            cv.rectangle(frame, (x1, y1), (x2, y2), (0,255, 0), 4,cv.LINE_AA)\n",
    "            cv.putText(frame,\"Wear Mask\", (x1, y1), cv.FONT_HERSHEY_DUPLEX,0.7, (0,255, 0), 1, cv.LINE_AA)\n",
    "        else:\n",
    "            cv.rectangle(frame, (x1, y1), (x2, y2), (0,0,255), 4,cv.LINE_AA)\n",
    "            cv.putText(frame,\"No Mask\", (x1, y1), cv.FONT_HERSHEY_DUPLEX,0.7, (0,0,255), 1, cv.LINE_AA)\n",
    "            ###沒戴口罩，增加警鈴功能\n",
    "        \n",
    "    cv.imshow(\"Face Detection\", frame)\n",
    "    \n",
    "    if(cv.waitKey(1) & 0xFF == ord('q')):\n",
    "        break\n",
    "        \n",
    "cap.release()\n",
    "cv.destroyAllWindows()"
   ]
  },
  {
   "cell_type": "code",
   "execution_count": null,
   "metadata": {},
   "outputs": [],
   "source": []
  }
 ],
 "metadata": {
  "kernelspec": {
   "display_name": "Python 3",
   "language": "python",
   "name": "python3"
  },
  "language_info": {
   "codemirror_mode": {
    "name": "ipython",
    "version": 3
   },
   "file_extension": ".py",
   "mimetype": "text/x-python",
   "name": "python",
   "nbconvert_exporter": "python",
   "pygments_lexer": "ipython3",
   "version": "3.8.5"
  }
 },
 "nbformat": 4,
 "nbformat_minor": 4
}
